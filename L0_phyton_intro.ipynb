{
 "cells": [
  {
   "cell_type": "code",
   "execution_count": 1,
   "metadata": {},
   "outputs": [
    {
     "name": "stdout",
     "output_type": "stream",
     "text": [
      "Su secuencia es: \n",
      "ATCG\n",
      " tiene 4 nucleótidos\n"
     ]
    }
   ],
   "source": [
    "seq= input(\"Ingrese una secuencia:\")\n",
    "n = len(seq)\n",
    "print(\"Su secuencia es: \\n\"+seq+\"\\n tiene \" +str(n)+ \" nucleótidos\")"
   ]
  }
 ],
 "metadata": {
  "kernelspec": {
   "display_name": ".venv",
   "language": "python",
   "name": "python3"
  },
  "language_info": {
   "codemirror_mode": {
    "name": "ipython",
    "version": 3
   },
   "file_extension": ".py",
   "mimetype": "text/x-python",
   "name": "python",
   "nbconvert_exporter": "python",
   "pygments_lexer": "ipython3",
   "version": "3.10.4"
  },
  "orig_nbformat": 4
 },
 "nbformat": 4,
 "nbformat_minor": 2
}
