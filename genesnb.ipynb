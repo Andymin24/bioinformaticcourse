{
 "cells": [
  {
   "cell_type": "code",
   "execution_count": null,
   "metadata": {},
   "outputs": [],
   "source": [
    "import genes\n",
    "res1 = genes.descargar(gen1.txt)\n",
    "print (\"Se ha desargado la secuencia\")\n",
    "print(res1)"
   ]
  },
  {
   "cell_type": "code",
   "execution_count": 6,
   "metadata": {},
   "outputs": [
    {
     "ename": "FileNotFoundError",
     "evalue": "[Errno 2] No such file or directory: 'data_tarea/gen1.txt'",
     "output_type": "error",
     "traceback": [
      "\u001b[0;31m---------------------------------------------------------------------------\u001b[0m",
      "\u001b[0;31mFileNotFoundError\u001b[0m                         Traceback (most recent call last)",
      "Cell \u001b[0;32mIn[6], line 1\u001b[0m\n\u001b[0;32m----> 1\u001b[0m \u001b[39mwith\u001b[39;00m \u001b[39mopen\u001b[39;49m (\u001b[39m\"\u001b[39;49m\u001b[39mdata_tarea/gen1.txt\u001b[39;49m\u001b[39m\"\u001b[39;49m, \u001b[39m\"\u001b[39;49m\u001b[39mr\u001b[39;49m\u001b[39m\"\u001b[39;49m) \u001b[39mas\u001b[39;00m gen1:\n\u001b[1;32m      2\u001b[0m     gen11 \u001b[39m=\u001b[39m gen1\u001b[39m.\u001b[39mread()\n\u001b[1;32m      3\u001b[0m gen11\n",
      "File \u001b[0;32m/workspaces/bioinformaticcourse/.venv/lib/python3.10/site-packages/IPython/core/interactiveshell.py:282\u001b[0m, in \u001b[0;36m_modified_open\u001b[0;34m(file, *args, **kwargs)\u001b[0m\n\u001b[1;32m    275\u001b[0m \u001b[39mif\u001b[39;00m file \u001b[39min\u001b[39;00m {\u001b[39m0\u001b[39m, \u001b[39m1\u001b[39m, \u001b[39m2\u001b[39m}:\n\u001b[1;32m    276\u001b[0m     \u001b[39mraise\u001b[39;00m \u001b[39mValueError\u001b[39;00m(\n\u001b[1;32m    277\u001b[0m         \u001b[39mf\u001b[39m\u001b[39m\"\u001b[39m\u001b[39mIPython won\u001b[39m\u001b[39m'\u001b[39m\u001b[39mt let you open fd=\u001b[39m\u001b[39m{\u001b[39;00mfile\u001b[39m}\u001b[39;00m\u001b[39m by default \u001b[39m\u001b[39m\"\u001b[39m\n\u001b[1;32m    278\u001b[0m         \u001b[39m\"\u001b[39m\u001b[39mas it is likely to crash IPython. If you know what you are doing, \u001b[39m\u001b[39m\"\u001b[39m\n\u001b[1;32m    279\u001b[0m         \u001b[39m\"\u001b[39m\u001b[39myou can use builtins\u001b[39m\u001b[39m'\u001b[39m\u001b[39m open.\u001b[39m\u001b[39m\"\u001b[39m\n\u001b[1;32m    280\u001b[0m     )\n\u001b[0;32m--> 282\u001b[0m \u001b[39mreturn\u001b[39;00m io_open(file, \u001b[39m*\u001b[39;49margs, \u001b[39m*\u001b[39;49m\u001b[39m*\u001b[39;49mkwargs)\n",
      "\u001b[0;31mFileNotFoundError\u001b[0m: [Errno 2] No such file or directory: 'data_tarea/gen1.txt'"
     ]
    }
   ],
   "source": [
    "with open (\"data_tarea/gen1.txt\", \"r\") as gen1:\n",
    "    gen11 = gen1.read()\n",
    "gen11"
   ]
  },
  {
   "cell_type": "code",
   "execution_count": 4,
   "metadata": {},
   "outputs": [
    {
     "name": "stdout",
     "output_type": "stream",
     "text": [
      "L41996.1 with 0 features\n"
     ]
    },
    {
     "data": {
      "text/plain": [
       "Seq('TTCTCTGGGGGAAAGAAAAGAGTGGTAGAAAAGAGGTTTCTGTTAAAATGCTAC...ACT')"
      ]
     },
     "execution_count": 4,
     "metadata": {},
     "output_type": "execute_result"
    }
   ],
   "source": [
    "#Llamado del gen 1. \n",
    "from Bio import Entrez \n",
    "from Bio import SeqIO \n",
    "\n",
    "    # Simple fasta en GenBank NCBI\n",
    "Entrez.email = \"ajchiliquinga1@utn.edu.ec\" \n",
    "with Entrez.efetch(db=\"nucleotide\", rettype=\"fasta\", retmode=\"text\", id=\"L41996\") as handle:\n",
    "    seq_record = SeqIO.read(handle, \"fasta\")\n",
    "print(\"%s with %i features\" % (seq_record.id, len(seq_record.features)))\n",
    "seq_record.seq"
   ]
  },
  {
   "cell_type": "code",
   "execution_count": 5,
   "metadata": {},
   "outputs": [
    {
     "ename": "ValueError",
     "evalue": "I/O operation on closed file.",
     "output_type": "error",
     "traceback": [
      "\u001b[0;31m---------------------------------------------------------------------------\u001b[0m",
      "\u001b[0;31mTypeError\u001b[0m                                 Traceback (most recent call last)",
      "File \u001b[0;32m/workspaces/bioinformaticcourse/.venv/lib/python3.10/site-packages/Bio/SeqIO/Interfaces.py:45\u001b[0m, in \u001b[0;36mSequenceIterator.__init__\u001b[0;34m(self, source, alphabet, mode, fmt)\u001b[0m\n\u001b[1;32m     44\u001b[0m \u001b[39mtry\u001b[39;00m:\n\u001b[0;32m---> 45\u001b[0m     \u001b[39mself\u001b[39m\u001b[39m.\u001b[39mstream \u001b[39m=\u001b[39m \u001b[39mopen\u001b[39;49m(source, \u001b[39m\"\u001b[39;49m\u001b[39mr\u001b[39;49m\u001b[39m\"\u001b[39;49m \u001b[39m+\u001b[39;49m mode)\n\u001b[1;32m     46\u001b[0m     \u001b[39mself\u001b[39m\u001b[39m.\u001b[39mshould_close_stream \u001b[39m=\u001b[39m \u001b[39mTrue\u001b[39;00m\n",
      "\u001b[0;31mTypeError\u001b[0m: expected str, bytes or os.PathLike object, not TextIOWrapper",
      "\nDuring handling of the above exception, another exception occurred:\n",
      "\u001b[0;31mValueError\u001b[0m                                Traceback (most recent call last)",
      "Cell \u001b[0;32mIn[5], line 8\u001b[0m\n\u001b[1;32m      6\u001b[0m Entrez\u001b[39m.\u001b[39memail \u001b[39m=\u001b[39m \u001b[39m\"\u001b[39m\u001b[39majchiliquinga1@utn.edu.ec\u001b[39m\u001b[39m\"\u001b[39m \n\u001b[1;32m      7\u001b[0m \u001b[39mwith\u001b[39;00m Entrez\u001b[39m.\u001b[39mefetch(db\u001b[39m=\u001b[39m\u001b[39m\"\u001b[39m\u001b[39mnucleotide\u001b[39m\u001b[39m\"\u001b[39m, rettype\u001b[39m=\u001b[39m\u001b[39m\"\u001b[39m\u001b[39mfasta\u001b[39m\u001b[39m\"\u001b[39m, retmode\u001b[39m=\u001b[39m\u001b[39m\"\u001b[39m\u001b[39mtext\u001b[39m\u001b[39m\"\u001b[39m, \u001b[39mid\u001b[39m\u001b[39m=\u001b[39m\u001b[39m\"\u001b[39m\u001b[39mS68472\u001b[39m\u001b[39m\"\u001b[39m) \u001b[39mas\u001b[39;00m handle2:\n\u001b[0;32m----> 8\u001b[0m     seq_record \u001b[39m=\u001b[39m SeqIO\u001b[39m.\u001b[39;49mread(handle, \u001b[39m\"\u001b[39;49m\u001b[39mfasta\u001b[39;49m\u001b[39m\"\u001b[39;49m)\n\u001b[1;32m      9\u001b[0m \u001b[39mprint\u001b[39m(\u001b[39m\"\u001b[39m\u001b[39m%s\u001b[39;00m\u001b[39m with \u001b[39m\u001b[39m%i\u001b[39;00m\u001b[39m features\u001b[39m\u001b[39m\"\u001b[39m \u001b[39m%\u001b[39m (seq_record\u001b[39m.\u001b[39mid, \u001b[39mlen\u001b[39m(seq_record\u001b[39m.\u001b[39mfeatures)))\n\u001b[1;32m     10\u001b[0m seq_record\u001b[39m.\u001b[39mseq\n",
      "File \u001b[0;32m/workspaces/bioinformaticcourse/.venv/lib/python3.10/site-packages/Bio/SeqIO/__init__.py:652\u001b[0m, in \u001b[0;36mread\u001b[0;34m(handle, format, alphabet)\u001b[0m\n\u001b[1;32m    612\u001b[0m \u001b[39mdef\u001b[39;00m \u001b[39mread\u001b[39m(handle, \u001b[39mformat\u001b[39m, alphabet\u001b[39m=\u001b[39m\u001b[39mNone\u001b[39;00m):\n\u001b[1;32m    613\u001b[0m \u001b[39m    \u001b[39m\u001b[39m\"\"\"Turn a sequence file into a single SeqRecord.\u001b[39;00m\n\u001b[1;32m    614\u001b[0m \n\u001b[1;32m    615\u001b[0m \u001b[39m    Arguments:\u001b[39;00m\n\u001b[0;32m   (...)\u001b[0m\n\u001b[1;32m    650\u001b[0m \u001b[39m    to read multiple records from the handle.\u001b[39;00m\n\u001b[1;32m    651\u001b[0m \u001b[39m    \"\"\"\u001b[39;00m\n\u001b[0;32m--> 652\u001b[0m     iterator \u001b[39m=\u001b[39m parse(handle, \u001b[39mformat\u001b[39;49m, alphabet)\n\u001b[1;32m    653\u001b[0m     \u001b[39mtry\u001b[39;00m:\n\u001b[1;32m    654\u001b[0m         record \u001b[39m=\u001b[39m \u001b[39mnext\u001b[39m(iterator)\n",
      "File \u001b[0;32m/workspaces/bioinformaticcourse/.venv/lib/python3.10/site-packages/Bio/SeqIO/__init__.py:605\u001b[0m, in \u001b[0;36mparse\u001b[0;34m(handle, format, alphabet)\u001b[0m\n\u001b[1;32m    603\u001b[0m iterator_generator \u001b[39m=\u001b[39m _FormatToIterator\u001b[39m.\u001b[39mget(\u001b[39mformat\u001b[39m)\n\u001b[1;32m    604\u001b[0m \u001b[39mif\u001b[39;00m iterator_generator:\n\u001b[0;32m--> 605\u001b[0m     \u001b[39mreturn\u001b[39;00m iterator_generator(handle)\n\u001b[1;32m    606\u001b[0m \u001b[39mif\u001b[39;00m \u001b[39mformat\u001b[39m \u001b[39min\u001b[39;00m AlignIO\u001b[39m.\u001b[39m_FormatToIterator:\n\u001b[1;32m    607\u001b[0m     \u001b[39m# Use Bio.AlignIO to read in the alignments\u001b[39;00m\n\u001b[1;32m    608\u001b[0m     \u001b[39mreturn\u001b[39;00m (r \u001b[39mfor\u001b[39;00m alignment \u001b[39min\u001b[39;00m AlignIO\u001b[39m.\u001b[39mparse(handle, \u001b[39mformat\u001b[39m) \u001b[39mfor\u001b[39;00m r \u001b[39min\u001b[39;00m alignment)\n",
      "File \u001b[0;32m/workspaces/bioinformaticcourse/.venv/lib/python3.10/site-packages/Bio/SeqIO/FastaIO.py:223\u001b[0m, in \u001b[0;36mFastaIterator.__init__\u001b[0;34m(self, source, alphabet, title2ids)\u001b[0m\n\u001b[1;32m    204\u001b[0m     warnings\u001b[39m.\u001b[39mwarn(\n\u001b[1;32m    205\u001b[0m         \u001b[39m\"\u001b[39m\u001b[39mThe title2ids argument is deprecated. Instead, please use a \u001b[39m\u001b[39m\"\u001b[39m\n\u001b[1;32m    206\u001b[0m         \u001b[39m\"\u001b[39m\u001b[39mgenerator function to modify records returned by the parser. \u001b[39m\u001b[39m\"\u001b[39m\n\u001b[0;32m   (...)\u001b[0m\n\u001b[1;32m    220\u001b[0m         BiopythonDeprecationWarning,\n\u001b[1;32m    221\u001b[0m     )\n\u001b[1;32m    222\u001b[0m \u001b[39mself\u001b[39m\u001b[39m.\u001b[39mtitle2ids \u001b[39m=\u001b[39m title2ids\n\u001b[0;32m--> 223\u001b[0m \u001b[39msuper\u001b[39;49m()\u001b[39m.\u001b[39;49m\u001b[39m__init__\u001b[39;49m(source, mode\u001b[39m=\u001b[39;49m\u001b[39m\"\u001b[39;49m\u001b[39mt\u001b[39;49m\u001b[39m\"\u001b[39;49m, fmt\u001b[39m=\u001b[39;49m\u001b[39m\"\u001b[39;49m\u001b[39mFasta\u001b[39;49m\u001b[39m\"\u001b[39;49m)\n",
      "File \u001b[0;32m/workspaces/bioinformaticcourse/.venv/lib/python3.10/site-packages/Bio/SeqIO/Interfaces.py:49\u001b[0m, in \u001b[0;36mSequenceIterator.__init__\u001b[0;34m(self, source, alphabet, mode, fmt)\u001b[0m\n\u001b[1;32m     47\u001b[0m \u001b[39mexcept\u001b[39;00m \u001b[39mTypeError\u001b[39;00m:  \u001b[39m# not a path, assume we received a stream\u001b[39;00m\n\u001b[1;32m     48\u001b[0m     \u001b[39mif\u001b[39;00m mode \u001b[39m==\u001b[39m \u001b[39m\"\u001b[39m\u001b[39mt\u001b[39m\u001b[39m\"\u001b[39m:\n\u001b[0;32m---> 49\u001b[0m         \u001b[39mif\u001b[39;00m source\u001b[39m.\u001b[39;49mread(\u001b[39m0\u001b[39;49m) \u001b[39m!=\u001b[39m \u001b[39m\"\u001b[39m\u001b[39m\"\u001b[39m:\n\u001b[1;32m     50\u001b[0m             \u001b[39mraise\u001b[39;00m StreamModeError(\n\u001b[1;32m     51\u001b[0m                 \u001b[39mf\u001b[39m\u001b[39m\"\u001b[39m\u001b[39m{\u001b[39;00mfmt\u001b[39m}\u001b[39;00m\u001b[39m files must be opened in text mode.\u001b[39m\u001b[39m\"\u001b[39m\n\u001b[1;32m     52\u001b[0m             ) \u001b[39mfrom\u001b[39;00m \u001b[39mNone\u001b[39m\n\u001b[1;32m     53\u001b[0m     \u001b[39melif\u001b[39;00m mode \u001b[39m==\u001b[39m \u001b[39m\"\u001b[39m\u001b[39mb\u001b[39m\u001b[39m\"\u001b[39m:\n",
      "\u001b[0;31mValueError\u001b[0m: I/O operation on closed file."
     ]
    }
   ],
   "source": [
    "#Llamado del gen 2 \n",
    "from Bio import Entrez \n",
    "from Bio import SeqIO \n",
    "\n",
    "    # Simple fasta en GenBank NCBI\n",
    "Entrez.email = \"ajchiliquinga1@utn.edu.ec\" \n",
    "with Entrez.efetch(db=\"nucleotide\", rettype=\"fasta\", retmode=\"text\", id=\"S68472\") as handle2:\n",
    "    seq_record = SeqIO.read(handle, \"fasta\")\n",
    "print(\"%s with %i features\" % (seq_record.id, len(seq_record.features)))\n",
    "seq_record.seq"
   ]
  },
  {
   "attachments": {},
   "cell_type": "markdown",
   "metadata": {},
   "source": [
    "Función 1 descarga: descarga la secuencia del gen1 y gen2 con el valor de referencia. "
   ]
  },
  {
   "cell_type": "code",
   "execution_count": null,
   "metadata": {},
   "outputs": [],
   "source": [
    "res2 = genes.propiedaes(res1)\n",
    "print (\"Se han generado los documentos .csv\")\n",
    "print(res2)"
   ]
  },
  {
   "attachments": {},
   "cell_type": "markdown",
   "metadata": {},
   "source": [
    "Función 2 propiedades: desarrolla las acciones: \n",
    "1. Traducir las secuencias de DNA a amino ácidos \n",
    "2. Calcular el peso molecular (molecular_weight) de los péptidos resultantes.\n",
    "3. Calcular el índice de estabilidad (instability_index) de los péptidos resultantes. \n",
    "4. Guardar estos cálculos los guardará en gen1.csv y gen2.csv."
   ]
  },
  {
   "cell_type": "code",
   "execution_count": null,
   "metadata": {},
   "outputs": [],
   "source": [
    "res3 = genes.figura(res2)\n",
    "print (\"Se han generado los documentos .png\")\n",
    "print (res3)"
   ]
  },
  {
   "attachments": {},
   "cell_type": "markdown",
   "metadata": {},
   "source": [
    "Función 3. Figura: grafica de tipo joinplot utilizando los parámetros de peso molecular e índice de estabilidad y guarda como documentos .png"
   ]
  }
 ],
 "metadata": {
  "kernelspec": {
   "display_name": ".venv",
   "language": "python",
   "name": "python3"
  },
  "language_info": {
   "codemirror_mode": {
    "name": "ipython",
    "version": 3
   },
   "file_extension": ".py",
   "mimetype": "text/x-python",
   "name": "python",
   "nbconvert_exporter": "python",
   "pygments_lexer": "ipython3",
   "version": "3.10.4"
  },
  "orig_nbformat": 4
 },
 "nbformat": 4,
 "nbformat_minor": 2
}
