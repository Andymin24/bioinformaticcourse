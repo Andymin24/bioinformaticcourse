{
 "cells": [
  {
   "cell_type": "code",
   "execution_count": null,
   "metadata": {},
   "outputs": [],
   "source": [
    "import genes\n",
    "res1 = genes.descargar(gen1.txt)\n",
    "print (\"Se ha desargado la secuencia\")\n",
    "print(res1)"
   ]
  },
  {
   "attachments": {},
   "cell_type": "markdown",
   "metadata": {},
   "source": [
    "Función 1 descarga: descarga la secuencia del gen1 y gen2 con el valor de referencia. "
   ]
  },
  {
   "cell_type": "code",
   "execution_count": null,
   "metadata": {},
   "outputs": [],
   "source": [
    "res2 = genes.propiedaes(res1)\n",
    "print (\"Se han generado los documentos .csv\")\n",
    "print(res2)"
   ]
  },
  {
   "attachments": {},
   "cell_type": "markdown",
   "metadata": {},
   "source": [
    "Función 2 propiedades: desarrolla las acciones: \n",
    "1. Traducir las secuencias de DNA a amino ácidos \n",
    "2. Calcular el peso molecular (molecular_weight) de los péptidos resultantes.\n",
    "3. Calcular el índice de estabilidad (instability_index) de los péptidos resultantes. \n",
    "4. Guardar estos cálculos los guardará en gen1.csv y gen2.csv."
   ]
  },
  {
   "cell_type": "code",
   "execution_count": null,
   "metadata": {},
   "outputs": [],
   "source": [
    "res3 = genes.figura(res2)\n",
    "print (\"Se han generado los documentos .png\")\n",
    "print (res3)"
   ]
  },
  {
   "attachments": {},
   "cell_type": "markdown",
   "metadata": {},
   "source": [
    "Función 3. Figura: grafica de tipo joinplot utilizando los parámetros de peso molecular e índice de estabilidad y guarda como documentos .png"
   ]
  }
 ],
 "metadata": {
  "language_info": {
   "name": "python"
  },
  "orig_nbformat": 4
 },
 "nbformat": 4,
 "nbformat_minor": 2
}
