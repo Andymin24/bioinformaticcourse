{
 "cells": [
  {
   "cell_type": "code",
   "execution_count": null,
   "metadata": {},
   "outputs": [],
   "source": [
    "import genes\n",
    "res1 = genes.descargar(gen1.txt)\n",
    "print (\"Se ha desargado la secuencia\")\n",
    "print(res1)"
   ]
  },
  {
   "cell_type": "code",
   "execution_count": 1,
   "metadata": {},
   "outputs": [
    {
     "data": {
      "text/plain": [
       "['U01317 ',\n",
       " ' J00093 ',\n",
       " ' J00094 ',\n",
       " ' J00096 ',\n",
       " ' J00158 ',\n",
       " ' J00175 ',\n",
       " ' J00177 ',\n",
       " ' J00178 ',\n",
       " ' J00179 ',\n",
       " ' K01239 ',\n",
       " ' K01890  ',\n",
       " ' K02544  ',\n",
       " ' M18047  ',\n",
       " ' M19067  ',\n",
       " ' M24868  ',\n",
       " ' M24886']"
      ]
     },
     "execution_count": 1,
     "metadata": {},
     "output_type": "execute_result"
    }
   ],
   "source": [
    "with open (\"gen1.txt\", \"r\") as gen1:\n",
    "    gen11 = gen1.read()\n",
    "    gen12 = \" , \".join(gen11.split(\"\\n\")).split(\",\")\n",
    "gen12"
   ]
  },
  {
   "cell_type": "code",
   "execution_count": 6,
   "metadata": {},
   "outputs": [
    {
     "ename": "ValueError",
     "evalue": "I/O operation on closed file.",
     "output_type": "error",
     "traceback": [
      "\u001b[0;31m---------------------------------------------------------------------------\u001b[0m",
      "\u001b[0;31mValueError\u001b[0m                                Traceback (most recent call last)",
      "Cell \u001b[0;32mIn[6], line 9\u001b[0m\n\u001b[1;32m      7\u001b[0m \u001b[39mwith\u001b[39;00m Entrez\u001b[39m.\u001b[39mefetch(db\u001b[39m=\u001b[39m\u001b[39m\"\u001b[39m\u001b[39mnucleotide\u001b[39m\u001b[39m\"\u001b[39m, rettype\u001b[39m=\u001b[39m\u001b[39m\"\u001b[39m\u001b[39mfasta\u001b[39m\u001b[39m\"\u001b[39m, retmode\u001b[39m=\u001b[39m\u001b[39m\"\u001b[39m\u001b[39mtext\u001b[39m\u001b[39m\"\u001b[39m, \u001b[39mid\u001b[39m\u001b[39m=\u001b[39m gen12) \u001b[39mas\u001b[39;00m handle:\n\u001b[1;32m      8\u001b[0m     seqs_gen1 \u001b[39m=\u001b[39m SeqIO\u001b[39m.\u001b[39mparse(handle, \u001b[39m\"\u001b[39m\u001b[39mfasta\u001b[39m\u001b[39m\"\u001b[39m)\n\u001b[0;32m----> 9\u001b[0m SeqIO\u001b[39m.\u001b[39;49mwrite (seqs_gen1, \u001b[39m\"\u001b[39;49m\u001b[39mgen1.fasta\u001b[39;49m\u001b[39m\"\u001b[39;49m, \u001b[39m\"\u001b[39;49m\u001b[39mfasta\u001b[39;49m\u001b[39m\"\u001b[39;49m)\n",
      "File \u001b[0;32m/workspaces/bioinformaticcourse/.venv/lib/python3.10/site-packages/Bio/SeqIO/__init__.py:517\u001b[0m, in \u001b[0;36mwrite\u001b[0;34m(sequences, handle, format)\u001b[0m\n\u001b[1;32m    515\u001b[0m count \u001b[39m=\u001b[39m \u001b[39m0\u001b[39m\n\u001b[1;32m    516\u001b[0m \u001b[39mwith\u001b[39;00m as_handle(handle, \u001b[39m\"\u001b[39m\u001b[39mw\u001b[39m\u001b[39m\"\u001b[39m) \u001b[39mas\u001b[39;00m fp:\n\u001b[0;32m--> 517\u001b[0m     \u001b[39mfor\u001b[39;00m record \u001b[39min\u001b[39;00m sequences:\n\u001b[1;32m    518\u001b[0m         fp\u001b[39m.\u001b[39mwrite(format_function(record))\n\u001b[1;32m    519\u001b[0m         count \u001b[39m+\u001b[39m\u001b[39m=\u001b[39m \u001b[39m1\u001b[39m\n",
      "File \u001b[0;32m/workspaces/bioinformaticcourse/.venv/lib/python3.10/site-packages/Bio/SeqIO/Interfaces.py:72\u001b[0m, in \u001b[0;36mSequenceIterator.__next__\u001b[0;34m(self)\u001b[0m\n\u001b[1;32m     70\u001b[0m \u001b[39m\u001b[39m\u001b[39m\"\"\"Return the next entry.\"\"\"\u001b[39;00m\n\u001b[1;32m     71\u001b[0m \u001b[39mtry\u001b[39;00m:\n\u001b[0;32m---> 72\u001b[0m     \u001b[39mreturn\u001b[39;00m \u001b[39mnext\u001b[39;49m(\u001b[39mself\u001b[39;49m\u001b[39m.\u001b[39;49mrecords)\n\u001b[1;32m     73\u001b[0m \u001b[39mexcept\u001b[39;00m \u001b[39mException\u001b[39;00m:\n\u001b[1;32m     74\u001b[0m     \u001b[39mif\u001b[39;00m \u001b[39mself\u001b[39m\u001b[39m.\u001b[39mshould_close_stream:\n",
      "File \u001b[0;32m/workspaces/bioinformaticcourse/.venv/lib/python3.10/site-packages/Bio/SeqIO/FastaIO.py:238\u001b[0m, in \u001b[0;36mFastaIterator.iterate\u001b[0;34m(self, handle)\u001b[0m\n\u001b[1;32m    236\u001b[0m         \u001b[39myield\u001b[39;00m SeqRecord(Seq(sequence), \u001b[39mid\u001b[39m\u001b[39m=\u001b[39m\u001b[39mid\u001b[39m, name\u001b[39m=\u001b[39mname, description\u001b[39m=\u001b[39mdescr)\n\u001b[1;32m    237\u001b[0m \u001b[39melse\u001b[39;00m:\n\u001b[0;32m--> 238\u001b[0m     \u001b[39mfor\u001b[39;00m title, sequence \u001b[39min\u001b[39;00m SimpleFastaParser(handle):\n\u001b[1;32m    239\u001b[0m         \u001b[39mtry\u001b[39;00m:\n\u001b[1;32m    240\u001b[0m             first_word \u001b[39m=\u001b[39m title\u001b[39m.\u001b[39msplit(\u001b[39mNone\u001b[39;00m, \u001b[39m1\u001b[39m)[\u001b[39m0\u001b[39m]\n",
      "File \u001b[0;32m/workspaces/bioinformaticcourse/.venv/lib/python3.10/site-packages/Bio/SeqIO/FastaIO.py:50\u001b[0m, in \u001b[0;36mSimpleFastaParser\u001b[0;34m(handle)\u001b[0m\n\u001b[1;32m     28\u001b[0m \u001b[39m\u001b[39m\u001b[39m\"\"\"Iterate over Fasta records as string tuples.\u001b[39;00m\n\u001b[1;32m     29\u001b[0m \n\u001b[1;32m     30\u001b[0m \u001b[39mArguments:\u001b[39;00m\n\u001b[0;32m   (...)\u001b[0m\n\u001b[1;32m     47\u001b[0m \n\u001b[1;32m     48\u001b[0m \u001b[39m\"\"\"\u001b[39;00m\n\u001b[1;32m     49\u001b[0m \u001b[39m# Skip any text before the first record (e.g. blank lines, comments)\u001b[39;00m\n\u001b[0;32m---> 50\u001b[0m \u001b[39mfor\u001b[39;00m line \u001b[39min\u001b[39;00m handle:\n\u001b[1;32m     51\u001b[0m     \u001b[39mif\u001b[39;00m line[\u001b[39m0\u001b[39m] \u001b[39m==\u001b[39m \u001b[39m\"\u001b[39m\u001b[39m>\u001b[39m\u001b[39m\"\u001b[39m:\n\u001b[1;32m     52\u001b[0m         title \u001b[39m=\u001b[39m line[\u001b[39m1\u001b[39m:]\u001b[39m.\u001b[39mrstrip()\n",
      "\u001b[0;31mValueError\u001b[0m: I/O operation on closed file."
     ]
    }
   ],
   "source": [
    "#Llamado del gen 1. \n",
    "from Bio import Entrez \n",
    "from Bio import SeqIO \n",
    "\n",
    "    # Simple fasta en GenBank NCBI\n",
    "Entrez.email = \"ajchiliquinga1@utn.edu.ec\" \n",
    "with Entrez.efetch(db=\"nucleotide\", rettype=\"fasta\", retmode=\"text\", id= gen12) as handle:\n",
    "    seqs_gen1 = SeqIO.parse(handle, \"fasta\")\n",
    "SeqIO.write (seqs_gen1, \"gen1.fasta\", \"fasta\")"
   ]
  },
  {
   "cell_type": "code",
   "execution_count": 5,
   "metadata": {},
   "outputs": [
    {
     "ename": "ValueError",
     "evalue": "I/O operation on closed file.",
     "output_type": "error",
     "traceback": [
      "\u001b[0;31m---------------------------------------------------------------------------\u001b[0m",
      "\u001b[0;31mTypeError\u001b[0m                                 Traceback (most recent call last)",
      "File \u001b[0;32m/workspaces/bioinformaticcourse/.venv/lib/python3.10/site-packages/Bio/SeqIO/Interfaces.py:45\u001b[0m, in \u001b[0;36mSequenceIterator.__init__\u001b[0;34m(self, source, alphabet, mode, fmt)\u001b[0m\n\u001b[1;32m     44\u001b[0m \u001b[39mtry\u001b[39;00m:\n\u001b[0;32m---> 45\u001b[0m     \u001b[39mself\u001b[39m\u001b[39m.\u001b[39mstream \u001b[39m=\u001b[39m \u001b[39mopen\u001b[39;49m(source, \u001b[39m\"\u001b[39;49m\u001b[39mr\u001b[39;49m\u001b[39m\"\u001b[39;49m \u001b[39m+\u001b[39;49m mode)\n\u001b[1;32m     46\u001b[0m     \u001b[39mself\u001b[39m\u001b[39m.\u001b[39mshould_close_stream \u001b[39m=\u001b[39m \u001b[39mTrue\u001b[39;00m\n",
      "\u001b[0;31mTypeError\u001b[0m: expected str, bytes or os.PathLike object, not TextIOWrapper",
      "\nDuring handling of the above exception, another exception occurred:\n",
      "\u001b[0;31mValueError\u001b[0m                                Traceback (most recent call last)",
      "Cell \u001b[0;32mIn[5], line 8\u001b[0m\n\u001b[1;32m      6\u001b[0m Entrez\u001b[39m.\u001b[39memail \u001b[39m=\u001b[39m \u001b[39m\"\u001b[39m\u001b[39majchiliquinga1@utn.edu.ec\u001b[39m\u001b[39m\"\u001b[39m \n\u001b[1;32m      7\u001b[0m \u001b[39mwith\u001b[39;00m Entrez\u001b[39m.\u001b[39mefetch(db\u001b[39m=\u001b[39m\u001b[39m\"\u001b[39m\u001b[39mnucleotide\u001b[39m\u001b[39m\"\u001b[39m, rettype\u001b[39m=\u001b[39m\u001b[39m\"\u001b[39m\u001b[39mfasta\u001b[39m\u001b[39m\"\u001b[39m, retmode\u001b[39m=\u001b[39m\u001b[39m\"\u001b[39m\u001b[39mtext\u001b[39m\u001b[39m\"\u001b[39m, \u001b[39mid\u001b[39m\u001b[39m=\u001b[39m\u001b[39m\"\u001b[39m\u001b[39mS68472\u001b[39m\u001b[39m\"\u001b[39m) \u001b[39mas\u001b[39;00m handle2:\n\u001b[0;32m----> 8\u001b[0m     seq_record \u001b[39m=\u001b[39m SeqIO\u001b[39m.\u001b[39;49mread(handle, \u001b[39m\"\u001b[39;49m\u001b[39mfasta\u001b[39;49m\u001b[39m\"\u001b[39;49m)\n\u001b[1;32m      9\u001b[0m \u001b[39mprint\u001b[39m(\u001b[39m\"\u001b[39m\u001b[39m%s\u001b[39;00m\u001b[39m with \u001b[39m\u001b[39m%i\u001b[39;00m\u001b[39m features\u001b[39m\u001b[39m\"\u001b[39m \u001b[39m%\u001b[39m (seq_record\u001b[39m.\u001b[39mid, \u001b[39mlen\u001b[39m(seq_record\u001b[39m.\u001b[39mfeatures)))\n\u001b[1;32m     10\u001b[0m seq_record\u001b[39m.\u001b[39mseq\n",
      "File \u001b[0;32m/workspaces/bioinformaticcourse/.venv/lib/python3.10/site-packages/Bio/SeqIO/__init__.py:652\u001b[0m, in \u001b[0;36mread\u001b[0;34m(handle, format, alphabet)\u001b[0m\n\u001b[1;32m    612\u001b[0m \u001b[39mdef\u001b[39;00m \u001b[39mread\u001b[39m(handle, \u001b[39mformat\u001b[39m, alphabet\u001b[39m=\u001b[39m\u001b[39mNone\u001b[39;00m):\n\u001b[1;32m    613\u001b[0m \u001b[39m    \u001b[39m\u001b[39m\"\"\"Turn a sequence file into a single SeqRecord.\u001b[39;00m\n\u001b[1;32m    614\u001b[0m \n\u001b[1;32m    615\u001b[0m \u001b[39m    Arguments:\u001b[39;00m\n\u001b[0;32m   (...)\u001b[0m\n\u001b[1;32m    650\u001b[0m \u001b[39m    to read multiple records from the handle.\u001b[39;00m\n\u001b[1;32m    651\u001b[0m \u001b[39m    \"\"\"\u001b[39;00m\n\u001b[0;32m--> 652\u001b[0m     iterator \u001b[39m=\u001b[39m parse(handle, \u001b[39mformat\u001b[39;49m, alphabet)\n\u001b[1;32m    653\u001b[0m     \u001b[39mtry\u001b[39;00m:\n\u001b[1;32m    654\u001b[0m         record \u001b[39m=\u001b[39m \u001b[39mnext\u001b[39m(iterator)\n",
      "File \u001b[0;32m/workspaces/bioinformaticcourse/.venv/lib/python3.10/site-packages/Bio/SeqIO/__init__.py:605\u001b[0m, in \u001b[0;36mparse\u001b[0;34m(handle, format, alphabet)\u001b[0m\n\u001b[1;32m    603\u001b[0m iterator_generator \u001b[39m=\u001b[39m _FormatToIterator\u001b[39m.\u001b[39mget(\u001b[39mformat\u001b[39m)\n\u001b[1;32m    604\u001b[0m \u001b[39mif\u001b[39;00m iterator_generator:\n\u001b[0;32m--> 605\u001b[0m     \u001b[39mreturn\u001b[39;00m iterator_generator(handle)\n\u001b[1;32m    606\u001b[0m \u001b[39mif\u001b[39;00m \u001b[39mformat\u001b[39m \u001b[39min\u001b[39;00m AlignIO\u001b[39m.\u001b[39m_FormatToIterator:\n\u001b[1;32m    607\u001b[0m     \u001b[39m# Use Bio.AlignIO to read in the alignments\u001b[39;00m\n\u001b[1;32m    608\u001b[0m     \u001b[39mreturn\u001b[39;00m (r \u001b[39mfor\u001b[39;00m alignment \u001b[39min\u001b[39;00m AlignIO\u001b[39m.\u001b[39mparse(handle, \u001b[39mformat\u001b[39m) \u001b[39mfor\u001b[39;00m r \u001b[39min\u001b[39;00m alignment)\n",
      "File \u001b[0;32m/workspaces/bioinformaticcourse/.venv/lib/python3.10/site-packages/Bio/SeqIO/FastaIO.py:223\u001b[0m, in \u001b[0;36mFastaIterator.__init__\u001b[0;34m(self, source, alphabet, title2ids)\u001b[0m\n\u001b[1;32m    204\u001b[0m     warnings\u001b[39m.\u001b[39mwarn(\n\u001b[1;32m    205\u001b[0m         \u001b[39m\"\u001b[39m\u001b[39mThe title2ids argument is deprecated. Instead, please use a \u001b[39m\u001b[39m\"\u001b[39m\n\u001b[1;32m    206\u001b[0m         \u001b[39m\"\u001b[39m\u001b[39mgenerator function to modify records returned by the parser. \u001b[39m\u001b[39m\"\u001b[39m\n\u001b[0;32m   (...)\u001b[0m\n\u001b[1;32m    220\u001b[0m         BiopythonDeprecationWarning,\n\u001b[1;32m    221\u001b[0m     )\n\u001b[1;32m    222\u001b[0m \u001b[39mself\u001b[39m\u001b[39m.\u001b[39mtitle2ids \u001b[39m=\u001b[39m title2ids\n\u001b[0;32m--> 223\u001b[0m \u001b[39msuper\u001b[39;49m()\u001b[39m.\u001b[39;49m\u001b[39m__init__\u001b[39;49m(source, mode\u001b[39m=\u001b[39;49m\u001b[39m\"\u001b[39;49m\u001b[39mt\u001b[39;49m\u001b[39m\"\u001b[39;49m, fmt\u001b[39m=\u001b[39;49m\u001b[39m\"\u001b[39;49m\u001b[39mFasta\u001b[39;49m\u001b[39m\"\u001b[39;49m)\n",
      "File \u001b[0;32m/workspaces/bioinformaticcourse/.venv/lib/python3.10/site-packages/Bio/SeqIO/Interfaces.py:49\u001b[0m, in \u001b[0;36mSequenceIterator.__init__\u001b[0;34m(self, source, alphabet, mode, fmt)\u001b[0m\n\u001b[1;32m     47\u001b[0m \u001b[39mexcept\u001b[39;00m \u001b[39mTypeError\u001b[39;00m:  \u001b[39m# not a path, assume we received a stream\u001b[39;00m\n\u001b[1;32m     48\u001b[0m     \u001b[39mif\u001b[39;00m mode \u001b[39m==\u001b[39m \u001b[39m\"\u001b[39m\u001b[39mt\u001b[39m\u001b[39m\"\u001b[39m:\n\u001b[0;32m---> 49\u001b[0m         \u001b[39mif\u001b[39;00m source\u001b[39m.\u001b[39;49mread(\u001b[39m0\u001b[39;49m) \u001b[39m!=\u001b[39m \u001b[39m\"\u001b[39m\u001b[39m\"\u001b[39m:\n\u001b[1;32m     50\u001b[0m             \u001b[39mraise\u001b[39;00m StreamModeError(\n\u001b[1;32m     51\u001b[0m                 \u001b[39mf\u001b[39m\u001b[39m\"\u001b[39m\u001b[39m{\u001b[39;00mfmt\u001b[39m}\u001b[39;00m\u001b[39m files must be opened in text mode.\u001b[39m\u001b[39m\"\u001b[39m\n\u001b[1;32m     52\u001b[0m             ) \u001b[39mfrom\u001b[39;00m \u001b[39mNone\u001b[39m\n\u001b[1;32m     53\u001b[0m     \u001b[39melif\u001b[39;00m mode \u001b[39m==\u001b[39m \u001b[39m\"\u001b[39m\u001b[39mb\u001b[39m\u001b[39m\"\u001b[39m:\n",
      "\u001b[0;31mValueError\u001b[0m: I/O operation on closed file."
     ]
    }
   ],
   "source": [
    "#Llamado del gen 2 \n",
    "from Bio import Entrez \n",
    "from Bio import SeqIO \n",
    "\n",
    "    # Simple fasta en GenBank NCBI\n",
    "Entrez.email = \"ajchiliquinga1@utn.edu.ec\" \n",
    "with Entrez.efetch(db=\"nucleotide\", rettype=\"fasta\", retmode=\"text\", id=\"S68472\") as handle2:\n",
    "    seq_record = SeqIO.read(handle, \"fasta\")\n",
    "print(\"%s with %i features\" % (seq_record.id, len(seq_record.features)))\n",
    "seq_record.seq"
   ]
  },
  {
   "attachments": {},
   "cell_type": "markdown",
   "metadata": {},
   "source": [
    "Función 1 descarga: descarga la secuencia del gen1 y gen2 con el valor de referencia. "
   ]
  },
  {
   "cell_type": "code",
   "execution_count": null,
   "metadata": {},
   "outputs": [],
   "source": [
    "res2 = genes.propiedaes(res1)\n",
    "print (\"Se han generado los documentos .csv\")\n",
    "print(res2)"
   ]
  },
  {
   "attachments": {},
   "cell_type": "markdown",
   "metadata": {},
   "source": [
    "Función 2 propiedades: desarrolla las acciones: \n",
    "1. Traducir las secuencias de DNA a amino ácidos \n",
    "2. Calcular el peso molecular (molecular_weight) de los péptidos resultantes.\n",
    "3. Calcular el índice de estabilidad (instability_index) de los péptidos resultantes. \n",
    "4. Guardar estos cálculos los guardará en gen1.csv y gen2.csv."
   ]
  },
  {
   "cell_type": "code",
   "execution_count": null,
   "metadata": {},
   "outputs": [],
   "source": [
    "res3 = genes.figura(res2)\n",
    "print (\"Se han generado los documentos .png\")\n",
    "print (res3)"
   ]
  },
  {
   "attachments": {},
   "cell_type": "markdown",
   "metadata": {},
   "source": [
    "Función 3. Figura: grafica de tipo joinplot utilizando los parámetros de peso molecular e índice de estabilidad y guarda como documentos .png"
   ]
  }
 ],
 "metadata": {
  "kernelspec": {
   "display_name": ".venv",
   "language": "python",
   "name": "python3"
  },
  "language_info": {
   "codemirror_mode": {
    "name": "ipython",
    "version": 3
   },
   "file_extension": ".py",
   "mimetype": "text/x-python",
   "name": "python",
   "nbconvert_exporter": "python",
   "pygments_lexer": "ipython3",
   "version": "3.10.4"
  },
  "orig_nbformat": 4
 },
 "nbformat": 4,
 "nbformat_minor": 2
}
